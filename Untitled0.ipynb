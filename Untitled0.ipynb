{
  "nbformat": 4,
  "nbformat_minor": 0,
  "metadata": {
    "colab": {
      "name": "Untitled0.ipynb",
      "provenance": [],
      "collapsed_sections": [],
      "include_colab_link": true
    },
    "kernelspec": {
      "name": "python2",
      "display_name": "Python 2"
    }
  },
  "cells": [
    {
      "cell_type": "markdown",
      "metadata": {
        "id": "view-in-github",
        "colab_type": "text"
      },
      "source": [
        "<a href=\"https://colab.research.google.com/github/afsk1240/material/blob/master/Untitled0.ipynb\" target=\"_parent\"><img src=\"https://colab.research.google.com/assets/colab-badge.svg\" alt=\"Open In Colab\"/></a>"
      ]
    },
    {
      "cell_type": "code",
      "metadata": {
        "id": "2gGZh7KYgQ4M",
        "colab_type": "code",
        "colab": {
          "base_uri": "https://localhost:8080/",
          "height": 53
        },
        "outputId": "c167e1ce-4343-4a8f-9ca3-e5d3a8b1ef11"
      },
      "source": [
        "import numpy as np\n",
        "\n",
        "# array = np.random.randint(1,10,size=4).reshape(2,2)\n",
        "# print(array)"
      ],
      "execution_count": 3,
      "outputs": [
        {
          "output_type": "stream",
          "text": [
            "[[3 3]\n",
            " [7 1]]\n"
          ],
          "name": "stdout"
        }
      ]
    },
    {
      "cell_type": "code",
      "metadata": {
        "id": "IGZp9GXWhDYu",
        "colab_type": "code",
        "colab": {
          "base_uri": "https://localhost:8080/",
          "height": 53
        },
        "outputId": "ab8bcd33-b4cc-4855-bbc9-019254ca448e"
      },
      "source": [
        "# result_array = array *10\n",
        "# print(result_array)"
      ],
      "execution_count": 5,
      "outputs": [
        {
          "output_type": "stream",
          "text": [
            "[[30 30]\n",
            " [70 10]]\n"
          ],
          "name": "stdout"
        }
      ]
    },
    {
      "cell_type": "code",
      "metadata": {
        "id": "1GmMpa6AhcXz",
        "colab_type": "code",
        "colab": {
          "base_uri": "https://localhost:8080/",
          "height": 107
        },
        "outputId": "8cc7a16a-1cac-4df1-992a-e49b006200f0"
      },
      "source": [
        "array1 = np.arange(4).reshape(2,2)\n",
        "array2 = np.arange(2)\n",
        "\n",
        "print(array1)\n",
        "print(array2)\n",
        "array3  = array1 +array2\n",
        "print(array3)\n"
      ],
      "execution_count": 11,
      "outputs": [
        {
          "output_type": "stream",
          "text": [
            "[[0 1]\n",
            " [2 3]]\n",
            "[0 1]\n",
            "[[0 2]\n",
            " [2 4]]\n"
          ],
          "name": "stdout"
        }
      ]
    }
  ]
}